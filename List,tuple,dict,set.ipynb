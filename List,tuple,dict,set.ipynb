{
 "cells": [
  {
   "cell_type": "code",
   "execution_count": 8,
   "id": "554fd44c",
   "metadata": {},
   "outputs": [],
   "source": [
    "l=[1,2.3,4,5,6,'vipin', 34.54, True]"
   ]
  },
  {
   "cell_type": "code",
   "execution_count": 2,
   "id": "89bafe17",
   "metadata": {},
   "outputs": [
    {
     "data": {
      "text/plain": [
       "1"
      ]
     },
     "execution_count": 2,
     "metadata": {},
     "output_type": "execute_result"
    }
   ],
   "source": [
    "l[0]"
   ]
  },
  {
   "cell_type": "code",
   "execution_count": 3,
   "id": "647f218f",
   "metadata": {},
   "outputs": [
    {
     "data": {
      "text/plain": [
       "True"
      ]
     },
     "execution_count": 3,
     "metadata": {},
     "output_type": "execute_result"
    }
   ],
   "source": [
    "l[-1]"
   ]
  },
  {
   "cell_type": "code",
   "execution_count": 9,
   "id": "f9c4c242",
   "metadata": {},
   "outputs": [
    {
     "data": {
      "text/plain": [
       "8"
      ]
     },
     "execution_count": 9,
     "metadata": {},
     "output_type": "execute_result"
    }
   ],
   "source": [
    "len(l)"
   ]
  },
  {
   "cell_type": "code",
   "execution_count": 10,
   "id": "9acbed30",
   "metadata": {},
   "outputs": [
    {
     "data": {
      "text/plain": [
       "[True, 34.54, 'vipin', 6, 5, 4, 2.3, 1]"
      ]
     },
     "execution_count": 10,
     "metadata": {},
     "output_type": "execute_result"
    }
   ],
   "source": [
    "l[::-1]"
   ]
  },
  {
   "cell_type": "code",
   "execution_count": 11,
   "id": "5ff02cb0",
   "metadata": {},
   "outputs": [
    {
     "data": {
      "text/plain": [
       "[1, 2.3, 4, 5, 6]"
      ]
     },
     "execution_count": 11,
     "metadata": {},
     "output_type": "execute_result"
    }
   ],
   "source": [
    "l[0:5]"
   ]
  },
  {
   "cell_type": "code",
   "execution_count": 12,
   "id": "0dbd1c78",
   "metadata": {},
   "outputs": [
    {
     "data": {
      "text/plain": [
       "[1, 4, 6, 34.54]"
      ]
     },
     "execution_count": 12,
     "metadata": {},
     "output_type": "execute_result"
    }
   ],
   "source": [
    "l[0:100:2]"
   ]
  },
  {
   "cell_type": "code",
   "execution_count": 13,
   "id": "68c36544",
   "metadata": {},
   "outputs": [
    {
     "data": {
      "text/plain": [
       "[]"
      ]
     },
     "execution_count": 13,
     "metadata": {},
     "output_type": "execute_result"
    }
   ],
   "source": [
    "l[0:8:-1]"
   ]
  },
  {
   "cell_type": "code",
   "execution_count": 14,
   "id": "f4830648",
   "metadata": {},
   "outputs": [
    {
     "data": {
      "text/plain": [
       "[1, 5, 34.54]"
      ]
     },
     "execution_count": 14,
     "metadata": {},
     "output_type": "execute_result"
    }
   ],
   "source": [
    "l[::3]"
   ]
  },
  {
   "cell_type": "code",
   "execution_count": 15,
   "id": "a0b5d6dc",
   "metadata": {},
   "outputs": [
    {
     "ename": "TypeError",
     "evalue": "can only concatenate list (not \"str\") to list",
     "output_type": "error",
     "traceback": [
      "\u001b[1;31m---------------------------------------------------------------------------\u001b[0m",
      "\u001b[1;31mTypeError\u001b[0m                                 Traceback (most recent call last)",
      "Input \u001b[1;32mIn [15]\u001b[0m, in \u001b[0;36m<cell line: 1>\u001b[1;34m()\u001b[0m\n\u001b[1;32m----> 1\u001b[0m \u001b[43ml\u001b[49m\u001b[38;5;241;43m+\u001b[39;49m\u001b[38;5;124;43m'\u001b[39;49m\u001b[38;5;124;43mvipin\u001b[39;49m\u001b[38;5;124;43m'\u001b[39;49m\n",
      "\u001b[1;31mTypeError\u001b[0m: can only concatenate list (not \"str\") to list"
     ]
    }
   ],
   "source": [
    "l+'vipin'"
   ]
  },
  {
   "cell_type": "code",
   "execution_count": 16,
   "id": "ab427ff6",
   "metadata": {},
   "outputs": [
    {
     "data": {
      "text/plain": [
       "[1, 2.3, 4, 5, 6, 'vipin', 34.54, True, 'vipin']"
      ]
     },
     "execution_count": 16,
     "metadata": {},
     "output_type": "execute_result"
    }
   ],
   "source": [
    "l+['vipin']"
   ]
  },
  {
   "cell_type": "code",
   "execution_count": 17,
   "id": "6e7ac446",
   "metadata": {},
   "outputs": [
    {
     "data": {
      "text/plain": [
       "[1, 2.3, 4, 5, 6, 'vipin', 34.54, True, 1, 2.3, 4, 5, 6, 'vipin', 34.54, True]"
      ]
     },
     "execution_count": 17,
     "metadata": {},
     "output_type": "execute_result"
    }
   ],
   "source": [
    "l*2"
   ]
  },
  {
   "cell_type": "code",
   "execution_count": 19,
   "id": "85a8a998",
   "metadata": {},
   "outputs": [
    {
     "data": {
      "text/plain": [
       "False"
      ]
     },
     "execution_count": 19,
     "metadata": {},
     "output_type": "execute_result"
    }
   ],
   "source": [
    "'sudh' in l"
   ]
  },
  {
   "cell_type": "code",
   "execution_count": 20,
   "id": "696d3846",
   "metadata": {},
   "outputs": [
    {
     "data": {
      "text/plain": [
       "True"
      ]
     },
     "execution_count": 20,
     "metadata": {},
     "output_type": "execute_result"
    }
   ],
   "source": [
    "4 in l"
   ]
  },
  {
   "cell_type": "code",
   "execution_count": 21,
   "id": "9674450d",
   "metadata": {},
   "outputs": [
    {
     "ename": "TypeError",
     "evalue": "'>' not supported between instances of 'str' and 'int'",
     "output_type": "error",
     "traceback": [
      "\u001b[1;31m---------------------------------------------------------------------------\u001b[0m",
      "\u001b[1;31mTypeError\u001b[0m                                 Traceback (most recent call last)",
      "Input \u001b[1;32mIn [21]\u001b[0m, in \u001b[0;36m<cell line: 1>\u001b[1;34m()\u001b[0m\n\u001b[1;32m----> 1\u001b[0m \u001b[38;5;28;43mmax\u001b[39;49m\u001b[43m(\u001b[49m\u001b[43ml\u001b[49m\u001b[43m)\u001b[49m\n",
      "\u001b[1;31mTypeError\u001b[0m: '>' not supported between instances of 'str' and 'int'"
     ]
    }
   ],
   "source": [
    "max(l)"
   ]
  },
  {
   "cell_type": "code",
   "execution_count": 22,
   "id": "bc847908",
   "metadata": {},
   "outputs": [
    {
     "data": {
      "text/plain": [
       "6"
      ]
     },
     "execution_count": 22,
     "metadata": {},
     "output_type": "execute_result"
    }
   ],
   "source": [
    "l1=[1,2,3,4,5,6]\n",
    "\n",
    "max(l1)"
   ]
  },
  {
   "cell_type": "code",
   "execution_count": 23,
   "id": "ac73994c",
   "metadata": {},
   "outputs": [],
   "source": [
    "l2=['vipin', 'mishra', 'class']"
   ]
  },
  {
   "cell_type": "code",
   "execution_count": 24,
   "id": "ed09ea2b",
   "metadata": {},
   "outputs": [
    {
     "data": {
      "text/plain": [
       "'vipin'"
      ]
     },
     "execution_count": 24,
     "metadata": {},
     "output_type": "execute_result"
    }
   ],
   "source": [
    "max(l2)"
   ]
  },
  {
   "cell_type": "code",
   "execution_count": 25,
   "id": "9b98a62a",
   "metadata": {},
   "outputs": [
    {
     "data": {
      "text/plain": [
       "1"
      ]
     },
     "execution_count": 25,
     "metadata": {},
     "output_type": "execute_result"
    }
   ],
   "source": [
    "min(l1)"
   ]
  },
  {
   "cell_type": "code",
   "execution_count": 26,
   "id": "4ec84a16",
   "metadata": {},
   "outputs": [
    {
     "data": {
      "text/plain": [
       "'class'"
      ]
     },
     "execution_count": 26,
     "metadata": {},
     "output_type": "execute_result"
    }
   ],
   "source": [
    "min(l2)"
   ]
  },
  {
   "cell_type": "code",
   "execution_count": 37,
   "id": "ee6a4217",
   "metadata": {},
   "outputs": [],
   "source": [
    "l=[1, 2.3, 4, 5, 6, 'vipin', 34.54, True, 'vipin']"
   ]
  },
  {
   "cell_type": "code",
   "execution_count": 38,
   "id": "796c2e3c",
   "metadata": {},
   "outputs": [
    {
     "data": {
      "text/plain": [
       "[1, 2.3, 4, 5, 6, 'vipin', 34.54, True, 'vipin', 'vipi']"
      ]
     },
     "execution_count": 38,
     "metadata": {},
     "output_type": "execute_result"
    }
   ],
   "source": [
    "l"
   ]
  },
  {
   "cell_type": "code",
   "execution_count": 39,
   "id": "f82165f7",
   "metadata": {},
   "outputs": [],
   "source": [
    "l.append(\"vipi\")"
   ]
  },
  {
   "cell_type": "code",
   "execution_count": 45,
   "id": "8183d6fd",
   "metadata": {},
   "outputs": [],
   "source": [
    "l=[1, 2.3, 4, 5, 6, 'vipin', 34.54, True, 'vipin']\n",
    "l.append([1,2,3,4])"
   ]
  },
  {
   "cell_type": "code",
   "execution_count": 48,
   "id": "50119d3f",
   "metadata": {},
   "outputs": [],
   "source": [
    "l=[1, 2,3, 4, 5, 6, 'vipin', 34.54, True, 'vipin']"
   ]
  },
  {
   "cell_type": "code",
   "execution_count": 49,
   "id": "43cd6c70",
   "metadata": {},
   "outputs": [],
   "source": [
    "l.append([1,2,3,4])"
   ]
  },
  {
   "cell_type": "code",
   "execution_count": 50,
   "id": "5e94079b",
   "metadata": {},
   "outputs": [
    {
     "data": {
      "text/plain": [
       "1"
      ]
     },
     "execution_count": 50,
     "metadata": {},
     "output_type": "execute_result"
    }
   ],
   "source": [
    "l.pop(0)"
   ]
  },
  {
   "cell_type": "code",
   "execution_count": 51,
   "id": "4f09014f",
   "metadata": {},
   "outputs": [
    {
     "data": {
      "text/plain": [
       "[2, 3, 4, 5, 6, 'vipin', 34.54, True, 'vipin', [1, 2, 3, 4]]"
      ]
     },
     "execution_count": 51,
     "metadata": {},
     "output_type": "execute_result"
    }
   ],
   "source": [
    "l"
   ]
  },
  {
   "cell_type": "code",
   "execution_count": 77,
   "id": "c970b8a2",
   "metadata": {},
   "outputs": [],
   "source": [
    "l.append('vip')"
   ]
  },
  {
   "cell_type": "code",
   "execution_count": 79,
   "id": "02af6e9a",
   "metadata": {},
   "outputs": [
    {
     "data": {
      "text/plain": [
       "[2, 3, 4, 5, 6, 'vipin', 34.54, True, 'vipin', [1, 2, 3, 4], 'vip', 'vip']"
      ]
     },
     "execution_count": 79,
     "metadata": {},
     "output_type": "execute_result"
    }
   ],
   "source": [
    "l"
   ]
  },
  {
   "cell_type": "code",
   "execution_count": 78,
   "id": "dd5dd930",
   "metadata": {},
   "outputs": [
    {
     "data": {
      "text/plain": [
       "6"
      ]
     },
     "execution_count": 78,
     "metadata": {},
     "output_type": "execute_result"
    }
   ],
   "source": [
    "l1.pop(0)"
   ]
  },
  {
   "cell_type": "code",
   "execution_count": 54,
   "id": "bdb1bb43",
   "metadata": {},
   "outputs": [
    {
     "data": {
      "text/plain": [
       "[2, 3, 4, 5, 6]"
      ]
     },
     "execution_count": 54,
     "metadata": {},
     "output_type": "execute_result"
    }
   ],
   "source": [
    "l1"
   ]
  },
  {
   "cell_type": "code",
   "execution_count": 58,
   "id": "e8333f8a",
   "metadata": {},
   "outputs": [],
   "source": [
    "l1=[1,2,3,5,4,6]\n",
    "l1.sort()"
   ]
  },
  {
   "cell_type": "code",
   "execution_count": 59,
   "id": "d527efe2",
   "metadata": {},
   "outputs": [],
   "source": [
    "l1.sort()"
   ]
  },
  {
   "cell_type": "code",
   "execution_count": 60,
   "id": "63be5a8d",
   "metadata": {},
   "outputs": [
    {
     "data": {
      "text/plain": [
       "[1, 2, 3, 4, 5, 6]"
      ]
     },
     "execution_count": 60,
     "metadata": {},
     "output_type": "execute_result"
    }
   ],
   "source": [
    "l1"
   ]
  },
  {
   "cell_type": "code",
   "execution_count": 61,
   "id": "3245fe03",
   "metadata": {},
   "outputs": [
    {
     "data": {
      "text/plain": [
       "[1, 2, 3, 4, 5, 6]"
      ]
     },
     "execution_count": 61,
     "metadata": {},
     "output_type": "execute_result"
    }
   ],
   "source": [
    "l1.copy()"
   ]
  },
  {
   "cell_type": "code",
   "execution_count": 69,
   "id": "1d3becd6",
   "metadata": {},
   "outputs": [],
   "source": [
    "l3=[2,65,46,6,3,76,5]"
   ]
  },
  {
   "cell_type": "code",
   "execution_count": 163,
   "id": "866c5d13",
   "metadata": {},
   "outputs": [],
   "source": [
    "l3=[2,65,46,6,3,76,5]"
   ]
  },
  {
   "cell_type": "code",
   "execution_count": 164,
   "id": "c51061ee",
   "metadata": {},
   "outputs": [],
   "source": [
    "l3.reverse()"
   ]
  },
  {
   "cell_type": "code",
   "execution_count": 165,
   "id": "f0d5285f",
   "metadata": {},
   "outputs": [
    {
     "data": {
      "text/plain": [
       "[5, 76, 3, 6, 46, 65, 2]"
      ]
     },
     "execution_count": 165,
     "metadata": {},
     "output_type": "execute_result"
    }
   ],
   "source": [
    "l3"
   ]
  },
  {
   "cell_type": "code",
   "execution_count": 72,
   "id": "6275778b",
   "metadata": {},
   "outputs": [],
   "source": [
    "l3.sort(reverse= True)"
   ]
  },
  {
   "cell_type": "code",
   "execution_count": 73,
   "id": "92232e68",
   "metadata": {},
   "outputs": [
    {
     "data": {
      "text/plain": [
       "[76, 65, 46, 6, 5, 3, 2]"
      ]
     },
     "execution_count": 73,
     "metadata": {},
     "output_type": "execute_result"
    }
   ],
   "source": [
    "l3"
   ]
  },
  {
   "cell_type": "code",
   "execution_count": 74,
   "id": "c88c7356",
   "metadata": {},
   "outputs": [],
   "source": [
    "l1.sort(reverse= True)"
   ]
  },
  {
   "cell_type": "code",
   "execution_count": 76,
   "id": "256c5c68",
   "metadata": {},
   "outputs": [
    {
     "data": {
      "text/plain": [
       "[6, 5, 4, 3, 2, 1]"
      ]
     },
     "execution_count": 76,
     "metadata": {},
     "output_type": "execute_result"
    }
   ],
   "source": [
    "l1"
   ]
  },
  {
   "cell_type": "code",
   "execution_count": 82,
   "id": "e6dabdce",
   "metadata": {},
   "outputs": [],
   "source": [
    "l1=[1,2,3,4,5]\n",
    "l2=[3,4,5,3]\n",
    "l3=[9,8,7,6,5]"
   ]
  },
  {
   "cell_type": "code",
   "execution_count": 83,
   "id": "f34189e4",
   "metadata": {},
   "outputs": [],
   "source": [
    "l4=[l1,l2,l3]"
   ]
  },
  {
   "cell_type": "code",
   "execution_count": 84,
   "id": "00bd60bf",
   "metadata": {},
   "outputs": [
    {
     "data": {
      "text/plain": [
       "[[1, 2, 3, 4, 5], [3, 4, 5, 3], [9, 8, 7, 6, 5]]"
      ]
     },
     "execution_count": 84,
     "metadata": {},
     "output_type": "execute_result"
    }
   ],
   "source": [
    "l4"
   ]
  },
  {
   "cell_type": "code",
   "execution_count": 85,
   "id": "d8b169b7",
   "metadata": {},
   "outputs": [
    {
     "data": {
      "text/plain": [
       "7"
      ]
     },
     "execution_count": 85,
     "metadata": {},
     "output_type": "execute_result"
    }
   ],
   "source": [
    "l4[2][2]"
   ]
  },
  {
   "cell_type": "code",
   "execution_count": 89,
   "id": "0edb11bf",
   "metadata": {},
   "outputs": [
    {
     "data": {
      "text/plain": [
       "[2, 3, 4, 5, 6, 'vipin', 34.54, True, 'vipin', [1, 2, 3, 4], 'vip', 'vip']"
      ]
     },
     "execution_count": 89,
     "metadata": {},
     "output_type": "execute_result"
    }
   ],
   "source": [
    "l"
   ]
  },
  {
   "cell_type": "code",
   "execution_count": 91,
   "id": "cf561897",
   "metadata": {},
   "outputs": [
    {
     "data": {
      "text/plain": [
       "2"
      ]
     },
     "execution_count": 91,
     "metadata": {},
     "output_type": "execute_result"
    }
   ],
   "source": [
    "l.count('vip')"
   ]
  },
  {
   "cell_type": "code",
   "execution_count": 92,
   "id": "8f2d44fd",
   "metadata": {},
   "outputs": [
    {
     "data": {
      "text/plain": [
       "1"
      ]
     },
     "execution_count": 92,
     "metadata": {},
     "output_type": "execute_result"
    }
   ],
   "source": [
    "l.count(3)"
   ]
  },
  {
   "cell_type": "code",
   "execution_count": 93,
   "id": "4ddc9110",
   "metadata": {},
   "outputs": [
    {
     "data": {
      "text/plain": [
       "4"
      ]
     },
     "execution_count": 93,
     "metadata": {},
     "output_type": "execute_result"
    }
   ],
   "source": [
    "l5=[1,2,3,2,2,2,22]\n",
    "l5.count(2)"
   ]
  },
  {
   "cell_type": "code",
   "execution_count": 94,
   "id": "486c9715",
   "metadata": {},
   "outputs": [],
   "source": [
    "l.append(l5)"
   ]
  },
  {
   "cell_type": "code",
   "execution_count": 96,
   "id": "6d279ce4",
   "metadata": {},
   "outputs": [
    {
     "data": {
      "text/plain": [
       "[2,\n",
       " 3,\n",
       " 4,\n",
       " 5,\n",
       " 6,\n",
       " 'vipin',\n",
       " 34.54,\n",
       " True,\n",
       " 'vipin',\n",
       " [1, 2, 3, 4],\n",
       " 'vip',\n",
       " 'vip',\n",
       " [1, 2, 3, 2, 2, 2, 22]]"
      ]
     },
     "execution_count": 96,
     "metadata": {},
     "output_type": "execute_result"
    }
   ],
   "source": [
    "l"
   ]
  },
  {
   "cell_type": "code",
   "execution_count": 97,
   "id": "c580ee1c",
   "metadata": {},
   "outputs": [],
   "source": [
    "l6=[1,2,3,4]"
   ]
  },
  {
   "cell_type": "code",
   "execution_count": 98,
   "id": "3ea0d6b8",
   "metadata": {},
   "outputs": [],
   "source": [
    "l6.append([1,66,7,5,])"
   ]
  },
  {
   "cell_type": "code",
   "execution_count": 99,
   "id": "7c548594",
   "metadata": {},
   "outputs": [
    {
     "data": {
      "text/plain": [
       "[1, 2, 3, 4, [1, 66, 7, 5]]"
      ]
     },
     "execution_count": 99,
     "metadata": {},
     "output_type": "execute_result"
    }
   ],
   "source": [
    "l6"
   ]
  },
  {
   "cell_type": "code",
   "execution_count": 100,
   "id": "5b646e88",
   "metadata": {},
   "outputs": [],
   "source": [
    "l6.append('vipin')"
   ]
  },
  {
   "cell_type": "code",
   "execution_count": 101,
   "id": "4ae6ddb7",
   "metadata": {},
   "outputs": [
    {
     "data": {
      "text/plain": [
       "[1, 2, 3, 4, [1, 66, 7, 5], 'vipin']"
      ]
     },
     "execution_count": 101,
     "metadata": {},
     "output_type": "execute_result"
    }
   ],
   "source": [
    "l6"
   ]
  },
  {
   "cell_type": "code",
   "execution_count": 102,
   "id": "feb7cf59",
   "metadata": {},
   "outputs": [
    {
     "ename": "TypeError",
     "evalue": "'int' object is not iterable",
     "output_type": "error",
     "traceback": [
      "\u001b[1;31m---------------------------------------------------------------------------\u001b[0m",
      "\u001b[1;31mTypeError\u001b[0m                                 Traceback (most recent call last)",
      "Input \u001b[1;32mIn [102]\u001b[0m, in \u001b[0;36m<cell line: 1>\u001b[1;34m()\u001b[0m\n\u001b[1;32m----> 1\u001b[0m \u001b[43ml6\u001b[49m\u001b[38;5;241;43m.\u001b[39;49m\u001b[43mextend\u001b[49m\u001b[43m(\u001b[49m\u001b[38;5;241;43m34\u001b[39;49m\u001b[43m)\u001b[49m\n",
      "\u001b[1;31mTypeError\u001b[0m: 'int' object is not iterable"
     ]
    }
   ],
   "source": [
    "l6.extend(34)"
   ]
  },
  {
   "cell_type": "code",
   "execution_count": 103,
   "id": "1702072e",
   "metadata": {},
   "outputs": [],
   "source": [
    "l6.extend([21,45,23])"
   ]
  },
  {
   "cell_type": "code",
   "execution_count": 104,
   "id": "afd37fd6",
   "metadata": {},
   "outputs": [
    {
     "data": {
      "text/plain": [
       "[1, 2, 3, 4, [1, 66, 7, 5], 'vipin', 21, 45, 23]"
      ]
     },
     "execution_count": 104,
     "metadata": {},
     "output_type": "execute_result"
    }
   ],
   "source": [
    "l6"
   ]
  },
  {
   "cell_type": "code",
   "execution_count": 105,
   "id": "f149a998",
   "metadata": {},
   "outputs": [],
   "source": [
    "l6.extend(\"vipin\")"
   ]
  },
  {
   "cell_type": "code",
   "execution_count": 106,
   "id": "b2516f2b",
   "metadata": {},
   "outputs": [
    {
     "data": {
      "text/plain": [
       "[1, 2, 3, 4, [1, 66, 7, 5], 'vipin', 21, 45, 23, 'v', 'i', 'p', 'i', 'n']"
      ]
     },
     "execution_count": 106,
     "metadata": {},
     "output_type": "execute_result"
    }
   ],
   "source": [
    "l6"
   ]
  },
  {
   "cell_type": "code",
   "execution_count": 107,
   "id": "f0d8dd38",
   "metadata": {},
   "outputs": [
    {
     "data": {
      "text/plain": [
       "2"
      ]
     },
     "execution_count": 107,
     "metadata": {},
     "output_type": "execute_result"
    }
   ],
   "source": [
    "l.index(4)"
   ]
  },
  {
   "cell_type": "code",
   "execution_count": 108,
   "id": "a307d9f4",
   "metadata": {},
   "outputs": [
    {
     "data": {
      "text/plain": [
       "5"
      ]
     },
     "execution_count": 108,
     "metadata": {},
     "output_type": "execute_result"
    }
   ],
   "source": [
    "l6.index('vipin')"
   ]
  },
  {
   "cell_type": "code",
   "execution_count": 112,
   "id": "c3e53fce",
   "metadata": {},
   "outputs": [
    {
     "data": {
      "text/plain": [
       "[9, 8, 7, 6, 5]"
      ]
     },
     "execution_count": 112,
     "metadata": {},
     "output_type": "execute_result"
    }
   ],
   "source": [
    "l3"
   ]
  },
  {
   "cell_type": "code",
   "execution_count": 114,
   "id": "4757f600",
   "metadata": {},
   "outputs": [],
   "source": [
    "l3.insert(3,\"vipin\")"
   ]
  },
  {
   "cell_type": "code",
   "execution_count": 115,
   "id": "bf1761bb",
   "metadata": {},
   "outputs": [
    {
     "data": {
      "text/plain": [
       "[9, 8, 7, 'vipin', 6, 5]"
      ]
     },
     "execution_count": 115,
     "metadata": {},
     "output_type": "execute_result"
    }
   ],
   "source": [
    "l3"
   ]
  },
  {
   "cell_type": "code",
   "execution_count": 116,
   "id": "6ee7f71d",
   "metadata": {},
   "outputs": [
    {
     "data": {
      "text/plain": [
       "5"
      ]
     },
     "execution_count": 116,
     "metadata": {},
     "output_type": "execute_result"
    }
   ],
   "source": [
    "l3.pop()"
   ]
  },
  {
   "cell_type": "code",
   "execution_count": 123,
   "id": "6411ccff",
   "metadata": {},
   "outputs": [
    {
     "data": {
      "text/plain": [
       "'vipin'"
      ]
     },
     "execution_count": 123,
     "metadata": {},
     "output_type": "execute_result"
    }
   ],
   "source": [
    "l3.pop(3)"
   ]
  },
  {
   "cell_type": "code",
   "execution_count": 119,
   "id": "8082a810",
   "metadata": {},
   "outputs": [
    {
     "data": {
      "text/plain": [
       "[9, 8, 7, 'vipin', 6]"
      ]
     },
     "execution_count": 119,
     "metadata": {},
     "output_type": "execute_result"
    }
   ],
   "source": [
    "l3"
   ]
  },
  {
   "cell_type": "code",
   "execution_count": 125,
   "id": "2d42826a",
   "metadata": {},
   "outputs": [
    {
     "data": {
      "text/plain": [
       "7"
      ]
     },
     "execution_count": 125,
     "metadata": {},
     "output_type": "execute_result"
    }
   ],
   "source": [
    "l3.pop(2)"
   ]
  },
  {
   "cell_type": "code",
   "execution_count": 126,
   "id": "1bf77ff8",
   "metadata": {},
   "outputs": [
    {
     "data": {
      "text/plain": [
       "[9, 8, 6]"
      ]
     },
     "execution_count": 126,
     "metadata": {},
     "output_type": "execute_result"
    }
   ],
   "source": [
    "l3"
   ]
  },
  {
   "cell_type": "code",
   "execution_count": 127,
   "id": "2d6ea4de",
   "metadata": {},
   "outputs": [
    {
     "data": {
      "text/plain": [
       "9"
      ]
     },
     "execution_count": 127,
     "metadata": {},
     "output_type": "execute_result"
    }
   ],
   "source": [
    "l3.pop(0)"
   ]
  },
  {
   "cell_type": "code",
   "execution_count": 128,
   "id": "8cef8098",
   "metadata": {},
   "outputs": [
    {
     "data": {
      "text/plain": [
       "[8, 6]"
      ]
     },
     "execution_count": 128,
     "metadata": {},
     "output_type": "execute_result"
    }
   ],
   "source": [
    "l3"
   ]
  },
  {
   "cell_type": "code",
   "execution_count": 129,
   "id": "90b220f9",
   "metadata": {},
   "outputs": [
    {
     "data": {
      "text/plain": [
       "[2,\n",
       " 3,\n",
       " 4,\n",
       " 5,\n",
       " 6,\n",
       " 'vipin',\n",
       " 34.54,\n",
       " True,\n",
       " 'vipin',\n",
       " [1, 2, 3, 4],\n",
       " 'vip',\n",
       " 'vip',\n",
       " [1, 2, 3, 2, 2, 2, 22]]"
      ]
     },
     "execution_count": 129,
     "metadata": {},
     "output_type": "execute_result"
    }
   ],
   "source": [
    "l"
   ]
  },
  {
   "cell_type": "code",
   "execution_count": 130,
   "id": "fd1f34a3",
   "metadata": {},
   "outputs": [],
   "source": [
    "l.remove(\"vipin\")"
   ]
  },
  {
   "cell_type": "code",
   "execution_count": 131,
   "id": "d3a87a2e",
   "metadata": {},
   "outputs": [
    {
     "data": {
      "text/plain": [
       "[2,\n",
       " 3,\n",
       " 4,\n",
       " 5,\n",
       " 6,\n",
       " 34.54,\n",
       " True,\n",
       " 'vipin',\n",
       " [1, 2, 3, 4],\n",
       " 'vip',\n",
       " 'vip',\n",
       " [1, 2, 3, 2, 2, 2, 22]]"
      ]
     },
     "execution_count": 131,
     "metadata": {},
     "output_type": "execute_result"
    }
   ],
   "source": [
    "l"
   ]
  },
  {
   "cell_type": "code",
   "execution_count": 132,
   "id": "f4d346c6",
   "metadata": {},
   "outputs": [],
   "source": [
    "l.remove(2)"
   ]
  },
  {
   "cell_type": "code",
   "execution_count": 133,
   "id": "84d8fa0c",
   "metadata": {},
   "outputs": [
    {
     "data": {
      "text/plain": [
       "[3,\n",
       " 4,\n",
       " 5,\n",
       " 6,\n",
       " 34.54,\n",
       " True,\n",
       " 'vipin',\n",
       " [1, 2, 3, 4],\n",
       " 'vip',\n",
       " 'vip',\n",
       " [1, 2, 3, 2, 2, 2, 22]]"
      ]
     },
     "execution_count": 133,
     "metadata": {},
     "output_type": "execute_result"
    }
   ],
   "source": [
    "l"
   ]
  },
  {
   "cell_type": "code",
   "execution_count": 134,
   "id": "a20bead4",
   "metadata": {},
   "outputs": [],
   "source": [
    "l=[1,2,3,4,5]"
   ]
  },
  {
   "cell_type": "code",
   "execution_count": 135,
   "id": "57d70d3f",
   "metadata": {},
   "outputs": [],
   "source": [
    "l[3]=\"vipin\""
   ]
  },
  {
   "cell_type": "code",
   "execution_count": 136,
   "id": "b309bfaa",
   "metadata": {},
   "outputs": [
    {
     "data": {
      "text/plain": [
       "[1, 2, 3, 'vipin', 5]"
      ]
     },
     "execution_count": 136,
     "metadata": {},
     "output_type": "execute_result"
    }
   ],
   "source": [
    "l"
   ]
  },
  {
   "cell_type": "code",
   "execution_count": 137,
   "id": "7d4be1d1",
   "metadata": {},
   "outputs": [],
   "source": [
    "l[2]=[2,0,8,9]"
   ]
  },
  {
   "cell_type": "code",
   "execution_count": 138,
   "id": "b6c6aa51",
   "metadata": {},
   "outputs": [
    {
     "data": {
      "text/plain": [
       "[1, 2, [2, 0, 8, 9], 'vipin', 5]"
      ]
     },
     "execution_count": 138,
     "metadata": {},
     "output_type": "execute_result"
    }
   ],
   "source": [
    "l"
   ]
  },
  {
   "cell_type": "code",
   "execution_count": 139,
   "id": "95722a5b",
   "metadata": {},
   "outputs": [],
   "source": [
    "s=\"master\""
   ]
  },
  {
   "cell_type": "code",
   "execution_count": 140,
   "id": "18b8bcef",
   "metadata": {},
   "outputs": [
    {
     "ename": "TypeError",
     "evalue": "'str' object does not support item assignment",
     "output_type": "error",
     "traceback": [
      "\u001b[1;31m---------------------------------------------------------------------------\u001b[0m",
      "\u001b[1;31mTypeError\u001b[0m                                 Traceback (most recent call last)",
      "Input \u001b[1;32mIn [140]\u001b[0m, in \u001b[0;36m<cell line: 1>\u001b[1;34m()\u001b[0m\n\u001b[1;32m----> 1\u001b[0m s[\u001b[38;5;241m2\u001b[39m]\u001b[38;5;241m=\u001b[39m\u001b[38;5;124m'\u001b[39m\u001b[38;5;124me\u001b[39m\u001b[38;5;124m'\u001b[39m\n",
      "\u001b[1;31mTypeError\u001b[0m: 'str' object does not support item assignment"
     ]
    }
   ],
   "source": [
    "s[2]='e'"
   ]
  },
  {
   "cell_type": "code",
   "execution_count": 143,
   "id": "b8f834ca",
   "metadata": {},
   "outputs": [],
   "source": [
    "t= (1,2,3,5,'vipin', True, 78.44)"
   ]
  },
  {
   "cell_type": "code",
   "execution_count": 144,
   "id": "556ac2f8",
   "metadata": {},
   "outputs": [
    {
     "data": {
      "text/plain": [
       "tuple"
      ]
     },
     "execution_count": 144,
     "metadata": {},
     "output_type": "execute_result"
    }
   ],
   "source": [
    "type(t)"
   ]
  },
  {
   "cell_type": "code",
   "execution_count": 145,
   "id": "d8667682",
   "metadata": {},
   "outputs": [
    {
     "data": {
      "text/plain": [
       "3"
      ]
     },
     "execution_count": 145,
     "metadata": {},
     "output_type": "execute_result"
    }
   ],
   "source": [
    "t[2]"
   ]
  },
  {
   "cell_type": "code",
   "execution_count": 146,
   "id": "b97913e4",
   "metadata": {},
   "outputs": [
    {
     "data": {
      "text/plain": [
       "(78.44, True, 'vipin', 5, 3, 2, 1)"
      ]
     },
     "execution_count": 146,
     "metadata": {},
     "output_type": "execute_result"
    }
   ],
   "source": [
    "t[::-1]"
   ]
  },
  {
   "cell_type": "code",
   "execution_count": 147,
   "id": "c7ba3bba",
   "metadata": {},
   "outputs": [
    {
     "data": {
      "text/plain": [
       "(1, 2, 3, 5, 'vipin', True, 78.44)"
      ]
     },
     "execution_count": 147,
     "metadata": {},
     "output_type": "execute_result"
    }
   ],
   "source": [
    "t[0:8]"
   ]
  },
  {
   "cell_type": "code",
   "execution_count": 150,
   "id": "6217944b",
   "metadata": {},
   "outputs": [
    {
     "data": {
      "text/plain": [
       "(78.44, True, 'vipin', 5, 3, 2)"
      ]
     },
     "execution_count": 150,
     "metadata": {},
     "output_type": "execute_result"
    }
   ],
   "source": [
    "t[8:0:-1]"
   ]
  },
  {
   "cell_type": "code",
   "execution_count": 151,
   "id": "070003b5",
   "metadata": {},
   "outputs": [
    {
     "data": {
      "text/plain": [
       "True"
      ]
     },
     "execution_count": 151,
     "metadata": {},
     "output_type": "execute_result"
    }
   ],
   "source": [
    "t[-2]"
   ]
  },
  {
   "cell_type": "code",
   "execution_count": 152,
   "id": "dd4a136e",
   "metadata": {},
   "outputs": [
    {
     "data": {
      "text/plain": [
       "(1, 2, 3, 5, 'vipin', True, 78.44)"
      ]
     },
     "execution_count": 152,
     "metadata": {},
     "output_type": "execute_result"
    }
   ],
   "source": [
    "t"
   ]
  },
  {
   "cell_type": "code",
   "execution_count": 153,
   "id": "ca79a6b0",
   "metadata": {},
   "outputs": [
    {
     "ename": "TypeError",
     "evalue": "'tuple' object does not support item assignment",
     "output_type": "error",
     "traceback": [
      "\u001b[1;31m---------------------------------------------------------------------------\u001b[0m",
      "\u001b[1;31mTypeError\u001b[0m                                 Traceback (most recent call last)",
      "Input \u001b[1;32mIn [153]\u001b[0m, in \u001b[0;36m<cell line: 1>\u001b[1;34m()\u001b[0m\n\u001b[1;32m----> 1\u001b[0m t[\u001b[38;5;241m3\u001b[39m]\u001b[38;5;241m=\u001b[39m\u001b[38;5;124m'\u001b[39m\u001b[38;5;124mvipin\u001b[39m\u001b[38;5;124m'\u001b[39m\n",
      "\u001b[1;31mTypeError\u001b[0m: 'tuple' object does not support item assignment"
     ]
    }
   ],
   "source": [
    "t[3]='vipin'"
   ]
  },
  {
   "cell_type": "code",
   "execution_count": 157,
   "id": "3ea1d54f",
   "metadata": {},
   "outputs": [],
   "source": [
    "t1=(1,2,4)"
   ]
  },
  {
   "cell_type": "code",
   "execution_count": 158,
   "id": "20bf8397",
   "metadata": {},
   "outputs": [
    {
     "data": {
      "text/plain": [
       "(1, 2, 3, 5, 'vipin', True, 78.44, 1, 2, 4)"
      ]
     },
     "execution_count": 158,
     "metadata": {},
     "output_type": "execute_result"
    }
   ],
   "source": [
    "t+t1"
   ]
  },
  {
   "cell_type": "code",
   "execution_count": 159,
   "id": "e698ca11",
   "metadata": {},
   "outputs": [
    {
     "data": {
      "text/plain": [
       "1"
      ]
     },
     "execution_count": 159,
     "metadata": {},
     "output_type": "execute_result"
    }
   ],
   "source": [
    "t.count(2)"
   ]
  },
  {
   "cell_type": "code",
   "execution_count": 166,
   "id": "35965009",
   "metadata": {},
   "outputs": [
    {
     "data": {
      "text/plain": [
       "2"
      ]
     },
     "execution_count": 166,
     "metadata": {},
     "output_type": "execute_result"
    }
   ],
   "source": [
    "t.index(3)"
   ]
  },
  {
   "cell_type": "code",
   "execution_count": 167,
   "id": "9f8ba1d9",
   "metadata": {},
   "outputs": [
    {
     "data": {
      "text/plain": [
       "(1, 2, 3, 5, 'vipin', True, 78.44)"
      ]
     },
     "execution_count": 167,
     "metadata": {},
     "output_type": "execute_result"
    }
   ],
   "source": [
    "t"
   ]
  },
  {
   "cell_type": "code",
   "execution_count": 168,
   "id": "ed5d5836",
   "metadata": {},
   "outputs": [
    {
     "data": {
      "text/plain": [
       "3"
      ]
     },
     "execution_count": 168,
     "metadata": {},
     "output_type": "execute_result"
    }
   ],
   "source": [
    "t.index(5)"
   ]
  },
  {
   "cell_type": "code",
   "execution_count": 169,
   "id": "033f96ef",
   "metadata": {},
   "outputs": [
    {
     "data": {
      "text/plain": [
       "[1, 2, 3, 5, 'vipin', True, 78.44]"
      ]
     },
     "execution_count": 169,
     "metadata": {},
     "output_type": "execute_result"
    }
   ],
   "source": [
    "list(t)"
   ]
  },
  {
   "cell_type": "code",
   "execution_count": 170,
   "id": "ab3c8b18",
   "metadata": {},
   "outputs": [],
   "source": [
    "t2=list(t)"
   ]
  },
  {
   "cell_type": "code",
   "execution_count": 171,
   "id": "c3b9b54e",
   "metadata": {},
   "outputs": [
    {
     "data": {
      "text/plain": [
       "[1, 2, 3, 5, 'vipin', True, 78.44]"
      ]
     },
     "execution_count": 171,
     "metadata": {},
     "output_type": "execute_result"
    }
   ],
   "source": [
    "t2"
   ]
  },
  {
   "cell_type": "code",
   "execution_count": 172,
   "id": "35d93d2d",
   "metadata": {},
   "outputs": [
    {
     "data": {
      "text/plain": [
       "(1, 2, 3, 5, 'vipin', True, 78.44)"
      ]
     },
     "execution_count": 172,
     "metadata": {},
     "output_type": "execute_result"
    }
   ],
   "source": [
    "tuple(t2)"
   ]
  },
  {
   "cell_type": "code",
   "execution_count": 173,
   "id": "e71b2bb7",
   "metadata": {},
   "outputs": [],
   "source": [
    "d={}"
   ]
  },
  {
   "cell_type": "code",
   "execution_count": 174,
   "id": "0de86e40",
   "metadata": {},
   "outputs": [
    {
     "data": {
      "text/plain": [
       "dict"
      ]
     },
     "execution_count": 174,
     "metadata": {},
     "output_type": "execute_result"
    }
   ],
   "source": [
    "type(d)"
   ]
  },
  {
   "cell_type": "code",
   "execution_count": 175,
   "id": "d8b2a52c",
   "metadata": {},
   "outputs": [
    {
     "data": {
      "text/plain": [
       "set"
      ]
     },
     "execution_count": 175,
     "metadata": {},
     "output_type": "execute_result"
    }
   ],
   "source": [
    "d1={1}\n",
    "type(d1)"
   ]
  },
  {
   "cell_type": "code",
   "execution_count": 179,
   "id": "4599dace",
   "metadata": {},
   "outputs": [],
   "source": [
    "d={'key': 1, 123: 'excuse','no': '12345'}"
   ]
  },
  {
   "cell_type": "code",
   "execution_count": 177,
   "id": "a7516dd1",
   "metadata": {},
   "outputs": [
    {
     "data": {
      "text/plain": [
       "dict"
      ]
     },
     "execution_count": 177,
     "metadata": {},
     "output_type": "execute_result"
    }
   ],
   "source": [
    "type(d)"
   ]
  },
  {
   "cell_type": "code",
   "execution_count": 180,
   "id": "b696a9a1",
   "metadata": {},
   "outputs": [
    {
     "data": {
      "text/plain": [
       "'excuse'"
      ]
     },
     "execution_count": 180,
     "metadata": {},
     "output_type": "execute_result"
    }
   ],
   "source": [
    "d[123]"
   ]
  },
  {
   "cell_type": "code",
   "execution_count": 182,
   "id": "aadbcc82",
   "metadata": {},
   "outputs": [
    {
     "data": {
      "text/plain": [
       "'12345'"
      ]
     },
     "execution_count": 182,
     "metadata": {},
     "output_type": "execute_result"
    }
   ],
   "source": [
    "d['no']"
   ]
  },
  {
   "cell_type": "code",
   "execution_count": 183,
   "id": "59fcf38d",
   "metadata": {},
   "outputs": [],
   "source": [
    "d1={'a': 1234, 'b': 'vipin', 'hey':[1,2,3,5,'ai', 'ml','data analytics']}"
   ]
  },
  {
   "cell_type": "code",
   "execution_count": 184,
   "id": "7cc9f789",
   "metadata": {},
   "outputs": [
    {
     "data": {
      "text/plain": [
       "{'a': 1234, 'b': 'vipin', 'hey': [1, 2, 3, 5, 'ai', 'ml', 'data analytics']}"
      ]
     },
     "execution_count": 184,
     "metadata": {},
     "output_type": "execute_result"
    }
   ],
   "source": [
    "d1"
   ]
  },
  {
   "cell_type": "code",
   "execution_count": 187,
   "id": "3af3ad56",
   "metadata": {},
   "outputs": [
    {
     "data": {
      "text/plain": [
       "[1, 2, 3, 5, 'ai', 'ml', 'data analytics']"
      ]
     },
     "execution_count": 187,
     "metadata": {},
     "output_type": "execute_result"
    }
   ],
   "source": [
    "d1['hey']"
   ]
  },
  {
   "cell_type": "code",
   "execution_count": 189,
   "id": "18f37c73",
   "metadata": {},
   "outputs": [
    {
     "data": {
      "text/plain": [
       "True"
      ]
     },
     "execution_count": 189,
     "metadata": {},
     "output_type": "execute_result"
    }
   ],
   "source": [
    "'ml'in d1['hey']"
   ]
  },
  {
   "cell_type": "code",
   "execution_count": 190,
   "id": "1f49abd6",
   "metadata": {},
   "outputs": [],
   "source": [
    "a={'name': \"vipin\", 'contact':'98767','name': 'padma'}"
   ]
  },
  {
   "cell_type": "code",
   "execution_count": 191,
   "id": "d39495e1",
   "metadata": {},
   "outputs": [
    {
     "data": {
      "text/plain": [
       "'padma'"
      ]
     },
     "execution_count": 191,
     "metadata": {},
     "output_type": "execute_result"
    }
   ],
   "source": [
    "a['name']"
   ]
  },
  {
   "cell_type": "code",
   "execution_count": 192,
   "id": "16e3e12b",
   "metadata": {},
   "outputs": [
    {
     "data": {
      "text/plain": [
       "{'name': 'padma', 'contact': '98767'}"
      ]
     },
     "execution_count": 192,
     "metadata": {},
     "output_type": "execute_result"
    }
   ],
   "source": [
    "a"
   ]
  },
  {
   "cell_type": "code",
   "execution_count": 193,
   "id": "65c8e158",
   "metadata": {},
   "outputs": [],
   "source": [
    "a['k']='xyz'"
   ]
  },
  {
   "cell_type": "code",
   "execution_count": 194,
   "id": "21779178",
   "metadata": {},
   "outputs": [
    {
     "data": {
      "text/plain": [
       "{'name': 'padma', 'contact': '98767', 'k': 'xyz'}"
      ]
     },
     "execution_count": 194,
     "metadata": {},
     "output_type": "execute_result"
    }
   ],
   "source": [
    "a"
   ]
  },
  {
   "cell_type": "code",
   "execution_count": 195,
   "id": "6d6e5746",
   "metadata": {},
   "outputs": [],
   "source": [
    "a['name']='abc'"
   ]
  },
  {
   "cell_type": "code",
   "execution_count": 196,
   "id": "9d8071f3",
   "metadata": {},
   "outputs": [
    {
     "data": {
      "text/plain": [
       "{'name': 'abc', 'contact': '98767', 'k': 'xyz'}"
      ]
     },
     "execution_count": 196,
     "metadata": {},
     "output_type": "execute_result"
    }
   ],
   "source": [
    "a"
   ]
  },
  {
   "cell_type": "code",
   "execution_count": 198,
   "id": "1f9c5a95",
   "metadata": {},
   "outputs": [],
   "source": [
    "a=d1"
   ]
  },
  {
   "cell_type": "code",
   "execution_count": 199,
   "id": "316801cf",
   "metadata": {},
   "outputs": [
    {
     "data": {
      "text/plain": [
       "{'a': 1234, 'b': 'vipin', 'hey': [1, 2, 3, 5, 'ai', 'ml', 'data analytics']}"
      ]
     },
     "execution_count": 199,
     "metadata": {},
     "output_type": "execute_result"
    }
   ],
   "source": [
    "a"
   ]
  },
  {
   "cell_type": "code",
   "execution_count": 201,
   "id": "ebbd60f2",
   "metadata": {},
   "outputs": [
    {
     "data": {
      "text/plain": [
       "'data analytics'"
      ]
     },
     "execution_count": 201,
     "metadata": {},
     "output_type": "execute_result"
    }
   ],
   "source": [
    "a['hey'][6]"
   ]
  },
  {
   "cell_type": "code",
   "execution_count": 204,
   "id": "7ea939d9",
   "metadata": {},
   "outputs": [],
   "source": [
    "d={'#': 'vipin'}"
   ]
  },
  {
   "cell_type": "code",
   "execution_count": 205,
   "id": "8ee67b64",
   "metadata": {},
   "outputs": [
    {
     "data": {
      "text/plain": [
       "'vipin'"
      ]
     },
     "execution_count": 205,
     "metadata": {},
     "output_type": "execute_result"
    }
   ],
   "source": [
    "d['#']"
   ]
  },
  {
   "cell_type": "code",
   "execution_count": 206,
   "id": "8ce88042",
   "metadata": {},
   "outputs": [],
   "source": [
    "d={(1,2,3):'vipin'}"
   ]
  },
  {
   "cell_type": "code",
   "execution_count": 207,
   "id": "36910028",
   "metadata": {},
   "outputs": [
    {
     "data": {
      "text/plain": [
       "'vipin'"
      ]
     },
     "execution_count": 207,
     "metadata": {},
     "output_type": "execute_result"
    }
   ],
   "source": [
    "d[(1,2,3)]"
   ]
  },
  {
   "cell_type": "code",
   "execution_count": 210,
   "id": "c1adb40e",
   "metadata": {},
   "outputs": [
    {
     "ename": "TypeError",
     "evalue": "unhashable type: 'list'",
     "output_type": "error",
     "traceback": [
      "\u001b[1;31m---------------------------------------------------------------------------\u001b[0m",
      "\u001b[1;31mTypeError\u001b[0m                                 Traceback (most recent call last)",
      "Input \u001b[1;32mIn [210]\u001b[0m, in \u001b[0;36m<cell line: 1>\u001b[1;34m()\u001b[0m\n\u001b[1;32m----> 1\u001b[0m d\u001b[38;5;241m=\u001b[39m{[\u001b[38;5;241m1\u001b[39m,\u001b[38;5;241m2\u001b[39m,\u001b[38;5;241m3\u001b[39m]:\u001b[38;5;124m'\u001b[39m\u001b[38;5;124mbarma\u001b[39m\u001b[38;5;124m'\u001b[39m}\n",
      "\u001b[1;31mTypeError\u001b[0m: unhashable type: 'list'"
     ]
    }
   ],
   "source": [
    "d={[1,2,3]:'barma'}"
   ]
  },
  {
   "cell_type": "code",
   "execution_count": 211,
   "id": "e7f498e6",
   "metadata": {},
   "outputs": [
    {
     "ename": "TypeError",
     "evalue": "unhashable type: 'set'",
     "output_type": "error",
     "traceback": [
      "\u001b[1;31m---------------------------------------------------------------------------\u001b[0m",
      "\u001b[1;31mTypeError\u001b[0m                                 Traceback (most recent call last)",
      "Input \u001b[1;32mIn [211]\u001b[0m, in \u001b[0;36m<cell line: 1>\u001b[1;34m()\u001b[0m\n\u001b[1;32m----> 1\u001b[0m d\u001b[38;5;241m=\u001b[39m{{\u001b[38;5;241m1\u001b[39m,\u001b[38;5;241m2\u001b[39m}:\u001b[38;5;124m'\u001b[39m\u001b[38;5;124mvipin\u001b[39m\u001b[38;5;124m'\u001b[39m}\n",
      "\u001b[1;31mTypeError\u001b[0m: unhashable type: 'set'"
     ]
    }
   ],
   "source": [
    "d={{1,2}:'vipin'}"
   ]
  },
  {
   "cell_type": "code",
   "execution_count": 213,
   "id": "de0c97a1",
   "metadata": {},
   "outputs": [
    {
     "ename": "TypeError",
     "evalue": "unsupported operand type(s) for +: 'dict' and 'dict'",
     "output_type": "error",
     "traceback": [
      "\u001b[1;31m---------------------------------------------------------------------------\u001b[0m",
      "\u001b[1;31mTypeError\u001b[0m                                 Traceback (most recent call last)",
      "Input \u001b[1;32mIn [213]\u001b[0m, in \u001b[0;36m<cell line: 1>\u001b[1;34m()\u001b[0m\n\u001b[1;32m----> 1\u001b[0m \u001b[43md1\u001b[49m\u001b[38;5;241;43m+\u001b[39;49m\u001b[43md\u001b[49m\n",
      "\u001b[1;31mTypeError\u001b[0m: unsupported operand type(s) for +: 'dict' and 'dict'"
     ]
    }
   ],
   "source": [
    "d1+d"
   ]
  },
  {
   "cell_type": "code",
   "execution_count": 215,
   "id": "c600b72e",
   "metadata": {},
   "outputs": [
    {
     "data": {
      "text/plain": [
       "{'h': None, 'e': None, 'y': None}"
      ]
     },
     "execution_count": 215,
     "metadata": {},
     "output_type": "execute_result"
    }
   ],
   "source": [
    "d.fromkeys('hey')"
   ]
  },
  {
   "cell_type": "code",
   "execution_count": 216,
   "id": "1edfe3b6",
   "metadata": {},
   "outputs": [
    {
     "data": {
      "text/plain": [
       "dict_keys([(1, 2, 3)])"
      ]
     },
     "execution_count": 216,
     "metadata": {},
     "output_type": "execute_result"
    }
   ],
   "source": [
    "d.keys()"
   ]
  },
  {
   "cell_type": "code",
   "execution_count": 217,
   "id": "5de75726",
   "metadata": {},
   "outputs": [
    {
     "data": {
      "text/plain": [
       "dict_items([((1, 2, 3), 'vipin')])"
      ]
     },
     "execution_count": 217,
     "metadata": {},
     "output_type": "execute_result"
    }
   ],
   "source": [
    "d.items()"
   ]
  },
  {
   "cell_type": "code",
   "execution_count": 221,
   "id": "228f5732",
   "metadata": {},
   "outputs": [],
   "source": [
    "d.get('hey')"
   ]
  },
  {
   "cell_type": "code",
   "execution_count": 222,
   "id": "05350101",
   "metadata": {},
   "outputs": [
    {
     "data": {
      "text/plain": [
       "{'a': 1234, 'b': 'vipin', 'hey': [1, 2, 3, 5, 'ai', 'ml', 'data analytics']}"
      ]
     },
     "execution_count": 222,
     "metadata": {},
     "output_type": "execute_result"
    }
   ],
   "source": [
    "a"
   ]
  },
  {
   "cell_type": "code",
   "execution_count": 223,
   "id": "36616720",
   "metadata": {},
   "outputs": [
    {
     "data": {
      "text/plain": [
       "dict_keys(['a', 'b', 'hey'])"
      ]
     },
     "execution_count": 223,
     "metadata": {},
     "output_type": "execute_result"
    }
   ],
   "source": [
    "a.keys()"
   ]
  },
  {
   "cell_type": "code",
   "execution_count": 224,
   "id": "60263ed0",
   "metadata": {},
   "outputs": [
    {
     "data": {
      "text/plain": [
       "dict_items([('a', 1234), ('b', 'vipin'), ('hey', [1, 2, 3, 5, 'ai', 'ml', 'data analytics'])])"
      ]
     },
     "execution_count": 224,
     "metadata": {},
     "output_type": "execute_result"
    }
   ],
   "source": [
    "a.items()"
   ]
  },
  {
   "cell_type": "code",
   "execution_count": 225,
   "id": "f6cd9719",
   "metadata": {},
   "outputs": [
    {
     "data": {
      "text/plain": [
       "dict_values([1234, 'vipin', [1, 2, 3, 5, 'ai', 'ml', 'data analytics']])"
      ]
     },
     "execution_count": 225,
     "metadata": {},
     "output_type": "execute_result"
    }
   ],
   "source": [
    "a.values()"
   ]
  },
  {
   "cell_type": "code",
   "execution_count": 226,
   "id": "b806a4bd",
   "metadata": {},
   "outputs": [],
   "source": [
    "s=(1,2,3,4,5,6)"
   ]
  },
  {
   "cell_type": "code",
   "execution_count": 231,
   "id": "3c6609d1",
   "metadata": {},
   "outputs": [],
   "source": [
    "s1={1,1,2,2,3,3,4,4,5,4,7,8,8,0,0,0}"
   ]
  },
  {
   "cell_type": "code",
   "execution_count": 232,
   "id": "d12d47da",
   "metadata": {},
   "outputs": [
    {
     "data": {
      "text/plain": [
       "{0, 1, 2, 3, 4, 5, 7, 8}"
      ]
     },
     "execution_count": 232,
     "metadata": {},
     "output_type": "execute_result"
    }
   ],
   "source": [
    "s1"
   ]
  },
  {
   "cell_type": "code",
   "execution_count": 233,
   "id": "aa53c41f",
   "metadata": {},
   "outputs": [],
   "source": [
    "s={234,866,4545,77,87,54,988,23,87,655}"
   ]
  },
  {
   "cell_type": "code",
   "execution_count": 234,
   "id": "b1b0e161",
   "metadata": {},
   "outputs": [
    {
     "data": {
      "text/plain": [
       "{23, 54, 77, 87, 234, 655, 866, 988, 4545}"
      ]
     },
     "execution_count": 234,
     "metadata": {},
     "output_type": "execute_result"
    }
   ],
   "source": [
    "s"
   ]
  },
  {
   "cell_type": "code",
   "execution_count": 235,
   "id": "a797c3de",
   "metadata": {},
   "outputs": [],
   "source": [
    "s={1,4,6,4,76,'vipin', 'yes',34,76,2}"
   ]
  },
  {
   "cell_type": "code",
   "execution_count": 236,
   "id": "aa2201fc",
   "metadata": {},
   "outputs": [
    {
     "data": {
      "text/plain": [
       "{1, 2, 34, 4, 6, 76, 'vipin', 'yes'}"
      ]
     },
     "execution_count": 236,
     "metadata": {},
     "output_type": "execute_result"
    }
   ],
   "source": [
    "s"
   ]
  },
  {
   "cell_type": "code",
   "execution_count": 237,
   "id": "b99bdfcc",
   "metadata": {},
   "outputs": [
    {
     "ename": "TypeError",
     "evalue": "'set' object is not subscriptable",
     "output_type": "error",
     "traceback": [
      "\u001b[1;31m---------------------------------------------------------------------------\u001b[0m",
      "\u001b[1;31mTypeError\u001b[0m                                 Traceback (most recent call last)",
      "Input \u001b[1;32mIn [237]\u001b[0m, in \u001b[0;36m<cell line: 1>\u001b[1;34m()\u001b[0m\n\u001b[1;32m----> 1\u001b[0m \u001b[43ms\u001b[49m\u001b[43m[\u001b[49m\u001b[38;5;241;43m0\u001b[39;49m\u001b[43m]\u001b[49m\n",
      "\u001b[1;31mTypeError\u001b[0m: 'set' object is not subscriptable"
     ]
    }
   ],
   "source": [
    "s[0]"
   ]
  },
  {
   "cell_type": "code",
   "execution_count": 238,
   "id": "58a06133",
   "metadata": {},
   "outputs": [
    {
     "data": {
      "text/plain": [
       "[1, 34, 2, 4, 6, 76, 'yes', 'vipin']"
      ]
     },
     "execution_count": 238,
     "metadata": {},
     "output_type": "execute_result"
    }
   ],
   "source": [
    "list(s)"
   ]
  },
  {
   "cell_type": "code",
   "execution_count": 240,
   "id": "a80d8e7c",
   "metadata": {},
   "outputs": [
    {
     "data": {
      "text/plain": [
       "(1, 34, 2, 4, 6, 76, 'yes', 'vipin')"
      ]
     },
     "execution_count": 240,
     "metadata": {},
     "output_type": "execute_result"
    }
   ],
   "source": [
    "tuple(s)"
   ]
  },
  {
   "cell_type": "code",
   "execution_count": 241,
   "id": "1c5f9904",
   "metadata": {},
   "outputs": [],
   "source": [
    "s=(1,3,2,2,2,2,22,2,2,22,3,3,3,4,5,5,6,6,8)"
   ]
  },
  {
   "cell_type": "code",
   "execution_count": 245,
   "id": "b29800e2",
   "metadata": {},
   "outputs": [
    {
     "data": {
      "text/plain": [
       "{1, 2, 3, 4, 5, 6, 8, 22}"
      ]
     },
     "execution_count": 245,
     "metadata": {},
     "output_type": "execute_result"
    }
   ],
   "source": [
    "set(s)"
   ]
  },
  {
   "cell_type": "code",
   "execution_count": 246,
   "id": "4b2382c4",
   "metadata": {},
   "outputs": [
    {
     "data": {
      "text/plain": [
       "(1, 2, 3, 4, 5, 6, 8, 22)"
      ]
     },
     "execution_count": 246,
     "metadata": {},
     "output_type": "execute_result"
    }
   ],
   "source": [
    "a={1, 2, 3, 4, 5, 6, 8, 22}\n",
    "tuple(a)"
   ]
  },
  {
   "cell_type": "code",
   "execution_count": 247,
   "id": "43509e15",
   "metadata": {},
   "outputs": [],
   "source": [
    "s=[(1,2,3,4), 3,4,5,655,6,5,67]"
   ]
  },
  {
   "cell_type": "code",
   "execution_count": 249,
   "id": "d9fcf325",
   "metadata": {},
   "outputs": [
    {
     "data": {
      "text/plain": [
       "{(1, 2, 3, 4), 3, 4, 5, 6, 655, 67}"
      ]
     },
     "execution_count": 249,
     "metadata": {},
     "output_type": "execute_result"
    }
   ],
   "source": [
    "set(s)"
   ]
  },
  {
   "cell_type": "code",
   "execution_count": 250,
   "id": "07c3fdb0",
   "metadata": {},
   "outputs": [
    {
     "data": {
      "text/plain": [
       "[(1, 2, 3, 4), 3, 4, 5, 655, 6, 5, 67]"
      ]
     },
     "execution_count": 250,
     "metadata": {},
     "output_type": "execute_result"
    }
   ],
   "source": [
    "s"
   ]
  },
  {
   "cell_type": "code",
   "execution_count": 252,
   "id": "6fd5f789",
   "metadata": {},
   "outputs": [],
   "source": [
    "s={1, 2, 3, 4, 5, 6, 8, 22}"
   ]
  },
  {
   "cell_type": "code",
   "execution_count": 253,
   "id": "796c7a7f",
   "metadata": {},
   "outputs": [],
   "source": [
    "s.add(34)"
   ]
  },
  {
   "cell_type": "code",
   "execution_count": 254,
   "id": "c3d58b2a",
   "metadata": {},
   "outputs": [
    {
     "data": {
      "text/plain": [
       "{1, 2, 3, 4, 5, 6, 8, 22, 34}"
      ]
     },
     "execution_count": 254,
     "metadata": {},
     "output_type": "execute_result"
    }
   ],
   "source": [
    "s"
   ]
  },
  {
   "cell_type": "code",
   "execution_count": 255,
   "id": "f7e8c748",
   "metadata": {},
   "outputs": [],
   "source": [
    "s1=[1,2,3,4]"
   ]
  },
  {
   "cell_type": "code",
   "execution_count": 256,
   "id": "cb754400",
   "metadata": {},
   "outputs": [
    {
     "ename": "TypeError",
     "evalue": "unhashable type: 'list'",
     "output_type": "error",
     "traceback": [
      "\u001b[1;31m---------------------------------------------------------------------------\u001b[0m",
      "\u001b[1;31mTypeError\u001b[0m                                 Traceback (most recent call last)",
      "Input \u001b[1;32mIn [256]\u001b[0m, in \u001b[0;36m<cell line: 1>\u001b[1;34m()\u001b[0m\n\u001b[1;32m----> 1\u001b[0m \u001b[43ms\u001b[49m\u001b[38;5;241;43m.\u001b[39;49m\u001b[43madd\u001b[49m\u001b[43m(\u001b[49m\u001b[43ms1\u001b[49m\u001b[43m)\u001b[49m\n",
      "\u001b[1;31mTypeError\u001b[0m: unhashable type: 'list'"
     ]
    }
   ],
   "source": [
    "s.add(s1)"
   ]
  },
  {
   "cell_type": "code",
   "execution_count": 257,
   "id": "067d04e8",
   "metadata": {},
   "outputs": [],
   "source": [
    "s=[(1, 2, 3, 4), 3, 4, 5, 655, 6, 5, 67]"
   ]
  },
  {
   "cell_type": "code",
   "execution_count": 270,
   "id": "c02eac7d",
   "metadata": {},
   "outputs": [
    {
     "ename": "KeyError",
     "evalue": "4345",
     "output_type": "error",
     "traceback": [
      "\u001b[1;31m---------------------------------------------------------------------------\u001b[0m",
      "\u001b[1;31mKeyError\u001b[0m                                  Traceback (most recent call last)",
      "Input \u001b[1;32mIn [270]\u001b[0m, in \u001b[0;36m<cell line: 1>\u001b[1;34m()\u001b[0m\n\u001b[1;32m----> 1\u001b[0m \u001b[43ms\u001b[49m\u001b[38;5;241;43m.\u001b[39;49m\u001b[43mremove\u001b[49m\u001b[43m(\u001b[49m\u001b[38;5;241;43m4345\u001b[39;49m\u001b[43m)\u001b[49m\n",
      "\u001b[1;31mKeyError\u001b[0m: 4345"
     ]
    }
   ],
   "source": [
    "s.remove(4345)"
   ]
  },
  {
   "cell_type": "code",
   "execution_count": 259,
   "id": "9e4f6536",
   "metadata": {},
   "outputs": [
    {
     "data": {
      "text/plain": [
       "[(1, 2, 3, 4), 3, 5, 655, 6, 5, 67]"
      ]
     },
     "execution_count": 259,
     "metadata": {},
     "output_type": "execute_result"
    }
   ],
   "source": [
    "s"
   ]
  },
  {
   "cell_type": "code",
   "execution_count": 261,
   "id": "99801543",
   "metadata": {},
   "outputs": [
    {
     "data": {
      "text/plain": [
       "(1, 2, 3, 5, 'vipin', True, 78.44)"
      ]
     },
     "execution_count": 261,
     "metadata": {},
     "output_type": "execute_result"
    }
   ],
   "source": [
    "t"
   ]
  },
  {
   "cell_type": "code",
   "execution_count": 263,
   "id": "265a57c8",
   "metadata": {},
   "outputs": [
    {
     "data": {
      "text/plain": [
       "{(1, 2, 3): 'vipin'}"
      ]
     },
     "execution_count": 263,
     "metadata": {},
     "output_type": "execute_result"
    }
   ],
   "source": [
    "d"
   ]
  },
  {
   "cell_type": "code",
   "execution_count": 273,
   "id": "39b7e559",
   "metadata": {},
   "outputs": [],
   "source": [
    "s={1,2,3,4,3,5,3,3}\n",
    "s.discard(55)"
   ]
  },
  {
   "cell_type": "code",
   "execution_count": 274,
   "id": "0df12245",
   "metadata": {},
   "outputs": [
    {
     "data": {
      "text/plain": [
       "{1, 2, 3, 4, 5}"
      ]
     },
     "execution_count": 274,
     "metadata": {},
     "output_type": "execute_result"
    }
   ],
   "source": [
    "s"
   ]
  },
  {
   "cell_type": "code",
   "execution_count": 277,
   "id": "415344f9",
   "metadata": {},
   "outputs": [
    {
     "data": {
      "text/plain": [
       "{(1, 2, 3): 'vipin'}"
      ]
     },
     "execution_count": 277,
     "metadata": {},
     "output_type": "execute_result"
    }
   ],
   "source": [
    "d"
   ]
  },
  {
   "cell_type": "code",
   "execution_count": 279,
   "id": "3331dc75",
   "metadata": {},
   "outputs": [],
   "source": [
    "a=set(d)"
   ]
  },
  {
   "cell_type": "code",
   "execution_count": 280,
   "id": "ac9b9d15",
   "metadata": {},
   "outputs": [
    {
     "data": {
      "text/plain": [
       "{(1, 2, 3)}"
      ]
     },
     "execution_count": 280,
     "metadata": {},
     "output_type": "execute_result"
    }
   ],
   "source": [
    "a"
   ]
  },
  {
   "cell_type": "code",
   "execution_count": 281,
   "id": "9c055077",
   "metadata": {},
   "outputs": [
    {
     "data": {
      "text/plain": [
       "[(1, 2, 3)]"
      ]
     },
     "execution_count": 281,
     "metadata": {},
     "output_type": "execute_result"
    }
   ],
   "source": [
    "list(a)"
   ]
  },
  {
   "cell_type": "code",
   "execution_count": null,
   "id": "b414f57f",
   "metadata": {},
   "outputs": [],
   "source": []
  }
 ],
 "metadata": {
  "kernelspec": {
   "display_name": "Python 3 (ipykernel)",
   "language": "python",
   "name": "python3"
  },
  "language_info": {
   "codemirror_mode": {
    "name": "ipython",
    "version": 3
   },
   "file_extension": ".py",
   "mimetype": "text/x-python",
   "name": "python",
   "nbconvert_exporter": "python",
   "pygments_lexer": "ipython3",
   "version": "3.9.12"
  }
 },
 "nbformat": 4,
 "nbformat_minor": 5
}
